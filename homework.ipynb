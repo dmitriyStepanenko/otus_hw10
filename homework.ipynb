{
 "cells": [
  {
   "cell_type": "markdown",
   "metadata": {},
   "source": [
    "<h1 align='center'>Домашнее задание</h1>"
   ]
  },
  {
   "cell_type": "markdown",
   "metadata": {},
   "source": [
    "**Дополнительный материал для выполнения дз**:\n",
    "\n",
    "- Лекция Coursera: https://ru.coursera.org/learn/machine-learning/lecture/4BHEy/regularized-logistic-regression\n",
    "- Статья на Хабре: https://habrahabr.ru/company/io/blog/265007/\n",
    "- Книжка ISLR, 4 глава: http://www-bcf.usc.edu/~gareth/ISL/ISLR%20First%20Printing.pdf\n",
    "- Логистическая регрессия, UFLDL Tutorial: http://ufldl.stanford.edu/tutorial/supervised/LogisticRegression/\n",
    "- Линейная регрессия, UFLDL Tutorial: http://ufldl.stanford.edu/tutorial/supervised/LinearRegression/\n"
   ]
  },
  {
   "cell_type": "markdown",
   "metadata": {},
   "source": [
    "<h1 align='center'>Logistic Regression</h1>"
   ]
  },
  {
   "cell_type": "code",
   "execution_count": 2,
   "metadata": {
    "ExecuteTime": {
     "end_time": "2021-11-20T11:37:05.552267Z",
     "start_time": "2021-11-20T11:37:05.527447Z"
    }
   },
   "outputs": [
    {
     "name": "stdout",
     "output_type": "stream",
     "text": [
      "The autoreload extension is already loaded. To reload it, use:\n",
      "  %reload_ext autoreload\n"
     ]
    }
   ],
   "source": [
    "import pandas as pd\n",
    "import numpy as np\n",
    "import tqdm # interactive progress bar\n",
    "\n",
    "import matplotlib.pyplot as plt\n",
    "import seaborn as sns; sns.set()\n",
    "\n",
    "%matplotlib inline\n",
    "\n",
    "# see http://stackoverflow.com/questions/1907993/autoreload-of-modules-in-ipython\n",
    "%load_ext autoreload\n",
    "%autoreload 2"
   ]
  },
  {
   "cell_type": "markdown",
   "metadata": {},
   "source": [
    "## 1. Знакомство с данными\n",
    "Данные представляют собой выборку отзывов о еде с сайта Амазон. Для них проставлены метки -- положительный или отрицательный отзыв."
   ]
  },
  {
   "cell_type": "code",
   "execution_count": 3,
   "metadata": {
    "ExecuteTime": {
     "end_time": "2021-11-20T11:37:09.306529Z",
     "start_time": "2021-11-20T11:37:09.200279Z"
    }
   },
   "outputs": [],
   "source": [
    "train_df = pd.read_csv('./data/train.csv')"
   ]
  },
  {
   "cell_type": "code",
   "execution_count": 4,
   "metadata": {
    "ExecuteTime": {
     "end_time": "2021-11-20T11:37:10.445287Z",
     "start_time": "2021-11-20T11:37:10.418594Z"
    }
   },
   "outputs": [
    {
     "name": "stdout",
     "output_type": "stream",
     "text": [
      "(110163, 3)\n"
     ]
    }
   ],
   "source": [
    "print(train_df.shape)"
   ]
  },
  {
   "cell_type": "code",
   "execution_count": 5,
   "metadata": {
    "ExecuteTime": {
     "end_time": "2021-11-20T11:37:11.034107Z",
     "start_time": "2021-11-20T11:37:11.000255Z"
    }
   },
   "outputs": [
    {
     "data": {
      "text/plain": [
       "0    0.50074\n",
       "1    0.49926\n",
       "Name: Prediction, dtype: float64"
      ]
     },
     "execution_count": 5,
     "metadata": {},
     "output_type": "execute_result"
    }
   ],
   "source": [
    "train_df.Prediction.value_counts(normalize=True)"
   ]
  },
  {
   "cell_type": "markdown",
   "metadata": {},
   "source": [
    "Видим, что классы сбалансированы. Можем оценивать качество модели по метрике ```accuracy```."
   ]
  },
  {
   "cell_type": "code",
   "execution_count": 6,
   "metadata": {
    "ExecuteTime": {
     "end_time": "2021-11-20T11:37:12.435487Z",
     "start_time": "2021-11-20T11:37:12.397656Z"
    }
   },
   "outputs": [
    {
     "data": {
      "text/html": [
       "<div>\n",
       "<style scoped>\n",
       "    .dataframe tbody tr th:only-of-type {\n",
       "        vertical-align: middle;\n",
       "    }\n",
       "\n",
       "    .dataframe tbody tr th {\n",
       "        vertical-align: top;\n",
       "    }\n",
       "\n",
       "    .dataframe thead th {\n",
       "        text-align: right;\n",
       "    }\n",
       "</style>\n",
       "<table border=\"1\" class=\"dataframe\">\n",
       "  <thead>\n",
       "    <tr style=\"text-align: right;\">\n",
       "      <th></th>\n",
       "      <th>ID</th>\n",
       "      <th>Reviews_Summary</th>\n",
       "      <th>Prediction</th>\n",
       "    </tr>\n",
       "  </thead>\n",
       "  <tbody>\n",
       "    <tr>\n",
       "      <th>0</th>\n",
       "      <td>239071</td>\n",
       "      <td>Michigan Cherries</td>\n",
       "      <td>1</td>\n",
       "    </tr>\n",
       "    <tr>\n",
       "      <th>1</th>\n",
       "      <td>466160</td>\n",
       "      <td>Great Product</td>\n",
       "      <td>1</td>\n",
       "    </tr>\n",
       "    <tr>\n",
       "      <th>2</th>\n",
       "      <td>397133</td>\n",
       "      <td>Ovaltine</td>\n",
       "      <td>1</td>\n",
       "    </tr>\n",
       "    <tr>\n",
       "      <th>3</th>\n",
       "      <td>297146</td>\n",
       "      <td>~</td>\n",
       "      <td>1</td>\n",
       "    </tr>\n",
       "    <tr>\n",
       "      <th>4</th>\n",
       "      <td>292685</td>\n",
       "      <td>Love it!</td>\n",
       "      <td>1</td>\n",
       "    </tr>\n",
       "  </tbody>\n",
       "</table>\n",
       "</div>"
      ],
      "text/plain": [
       "       ID    Reviews_Summary  Prediction\n",
       "0  239071  Michigan Cherries           1\n",
       "1  466160      Great Product           1\n",
       "2  397133           Ovaltine           1\n",
       "3  297146                  ~           1\n",
       "4  292685           Love it!           1"
      ]
     },
     "execution_count": 6,
     "metadata": {},
     "output_type": "execute_result"
    }
   ],
   "source": [
    "train_df.head()"
   ]
  },
  {
   "cell_type": "code",
   "execution_count": 7,
   "metadata": {
    "ExecuteTime": {
     "end_time": "2021-11-20T11:37:13.042708Z",
     "start_time": "2021-11-20T11:37:13.004217Z"
    }
   },
   "outputs": [
    {
     "data": {
      "text/html": [
       "<div>\n",
       "<style scoped>\n",
       "    .dataframe tbody tr th:only-of-type {\n",
       "        vertical-align: middle;\n",
       "    }\n",
       "\n",
       "    .dataframe tbody tr th {\n",
       "        vertical-align: top;\n",
       "    }\n",
       "\n",
       "    .dataframe thead th {\n",
       "        text-align: right;\n",
       "    }\n",
       "</style>\n",
       "<table border=\"1\" class=\"dataframe\">\n",
       "  <thead>\n",
       "    <tr style=\"text-align: right;\">\n",
       "      <th></th>\n",
       "      <th>ID</th>\n",
       "      <th>Reviews_Summary</th>\n",
       "      <th>Prediction</th>\n",
       "    </tr>\n",
       "  </thead>\n",
       "  <tbody>\n",
       "    <tr>\n",
       "      <th>110158</th>\n",
       "      <td>486256</td>\n",
       "      <td>Terrible!</td>\n",
       "      <td>0</td>\n",
       "    </tr>\n",
       "    <tr>\n",
       "      <th>110159</th>\n",
       "      <td>199050</td>\n",
       "      <td>Cheap Coffee, No Banana Flavor</td>\n",
       "      <td>0</td>\n",
       "    </tr>\n",
       "    <tr>\n",
       "      <th>110160</th>\n",
       "      <td>278179</td>\n",
       "      <td>Not as described</td>\n",
       "      <td>0</td>\n",
       "    </tr>\n",
       "    <tr>\n",
       "      <th>110161</th>\n",
       "      <td>87500</td>\n",
       "      <td>Tastes like a squirt of toothpaste mixed into ...</td>\n",
       "      <td>0</td>\n",
       "    </tr>\n",
       "    <tr>\n",
       "      <th>110162</th>\n",
       "      <td>121963</td>\n",
       "      <td>Disappointed</td>\n",
       "      <td>0</td>\n",
       "    </tr>\n",
       "  </tbody>\n",
       "</table>\n",
       "</div>"
      ],
      "text/plain": [
       "            ID                                    Reviews_Summary  Prediction\n",
       "110158  486256                                          Terrible!           0\n",
       "110159  199050                     Cheap Coffee, No Banana Flavor           0\n",
       "110160  278179                                   Not as described           0\n",
       "110161   87500  Tastes like a squirt of toothpaste mixed into ...           0\n",
       "110162  121963                                       Disappointed           0"
      ]
     },
     "execution_count": 7,
     "metadata": {},
     "output_type": "execute_result"
    }
   ],
   "source": [
    "train_df.tail()"
   ]
  },
  {
   "cell_type": "markdown",
   "metadata": {},
   "source": [
    "\n",
    "----------\n",
    "## 2. Извлечение признаков\n",
    "Для решения задачи классификации необходимо преобразовать каждый отзыв (документ) в вектор. Размерность данного вектора будет равна количеству слов используемых в корпусе (все документы). Каждая координата соответствует слову, значение в координате равно количеству раз, слово используется в документе. \n",
    "\n",
    "Для решения данной задачи напишем код, который преобразовывает матрицу документов в численную матрицу.\n",
    "\n",
    "Дополнительная информация:\n",
    "\n",
    "- Подробнее про векторное представление документов: http://scikit-learn.org/stable/modules/feature_extraction.html#text-feature-extraction\n",
    "- Разряженные матрицы: http://www.scipy-lectures.org/advanced/scipy_sparse/\n",
    "- Трансформер: http://scikit-learn.org/stable/modules/feature_extraction.html#common-vectorizer-usage\n",
    "- Подробнее про разреженные матрицы: http://docs.scipy.org/doc/scipy-0.14.0/reference/sparse.html\n",
    "- Hashing trick: https://en.wikipedia.org/wiki/Feature_hashing\n",
    "\n",
    "Помните, что все эти трансформеры возвращают ```sparse```-матрицы. Учитывая это и то, что линейные модели достаточно хорошо масштабируются на большое количество фич, можно смело ставить ```n_features``` 1000+."
   ]
  },
  {
   "cell_type": "code",
   "execution_count": 8,
   "metadata": {
    "ExecuteTime": {
     "end_time": "2021-11-20T11:37:14.526853Z",
     "start_time": "2021-11-20T11:37:14.477298Z"
    }
   },
   "outputs": [],
   "source": [
    "review_summaries = list(train_df['Reviews_Summary'].values)\n",
    "review_summaries = [l.lower() for l in review_summaries]"
   ]
  },
  {
   "cell_type": "code",
   "execution_count": 9,
   "metadata": {
    "ExecuteTime": {
     "end_time": "2021-11-20T11:37:15.079045Z",
     "start_time": "2021-11-20T11:37:15.049410Z"
    }
   },
   "outputs": [
    {
     "data": {
      "text/plain": [
       "['michigan cherries', 'great product', 'ovaltine', '~', 'love it!']"
      ]
     },
     "execution_count": 9,
     "metadata": {},
     "output_type": "execute_result"
    }
   ],
   "source": [
    "review_summaries[:5]"
   ]
  },
  {
   "cell_type": "markdown",
   "metadata": {
    "collapsed": true
   },
   "source": [
    "Преобразуем ```review_summaries``` с помощью ```TfidfVectorizer```."
   ]
  },
  {
   "cell_type": "code",
   "execution_count": 10,
   "metadata": {
    "ExecuteTime": {
     "end_time": "2021-11-20T11:37:16.552802Z",
     "start_time": "2021-11-20T11:37:16.424177Z"
    }
   },
   "outputs": [],
   "source": [
    "from sklearn.feature_extraction.text import TfidfVectorizer"
   ]
  },
  {
   "cell_type": "code",
   "execution_count": 11,
   "metadata": {
    "ExecuteTime": {
     "end_time": "2021-11-20T11:37:17.293767Z",
     "start_time": "2021-11-20T11:37:17.265965Z"
    }
   },
   "outputs": [],
   "source": [
    "vectorizer = TfidfVectorizer()"
   ]
  },
  {
   "cell_type": "code",
   "execution_count": 12,
   "metadata": {
    "ExecuteTime": {
     "end_time": "2021-11-20T11:37:18.593307Z",
     "start_time": "2021-11-20T11:37:18.121273Z"
    }
   },
   "outputs": [],
   "source": [
    "tfidfed = vectorizer.fit_transform(review_summaries)"
   ]
  },
  {
   "cell_type": "code",
   "execution_count": 13,
   "metadata": {
    "ExecuteTime": {
     "end_time": "2021-11-20T11:37:19.028236Z",
     "start_time": "2021-11-20T11:37:18.992469Z"
    }
   },
   "outputs": [],
   "source": [
    "from sklearn.model_selection import train_test_split"
   ]
  },
  {
   "cell_type": "code",
   "execution_count": 14,
   "metadata": {
    "ExecuteTime": {
     "end_time": "2021-11-20T11:37:19.696370Z",
     "start_time": "2021-11-20T11:37:19.650810Z"
    }
   },
   "outputs": [],
   "source": [
    "X = tfidfed\n",
    "y = train_df.Prediction.values\n",
    "X_train, X_test, y_train, y_test = train_test_split(X, y, train_size=0.7, random_state=42)"
   ]
  },
  {
   "cell_type": "markdown",
   "metadata": {},
   "source": [
    "## 3. Логистическая регрессия"
   ]
  },
  {
   "cell_type": "markdown",
   "metadata": {},
   "source": [
    "Логистическая регрессия -- линейный классификатор, который очень часто используется на практике, например, в кредитном скоринге. Преимущества этой модели -- скорость обучения и предсказания (даже при сотнях тысяч фичей) а также интепретируемость: важные признаки имеют бОльшие по модулю веса. \n",
    "\n",
    "При этом отрицательные веса говорят, что фича важна для определения класса 0, а положительные -- для определения класса 1. Это можно понять, если вспомнить, что разделяющая поверхность линейных моделей, это $w^Tx = 0$, а значение алгоритма есть $a(x) = sign(w^Tx)$."
   ]
  },
  {
   "cell_type": "markdown",
   "metadata": {},
   "source": [
    "Будем предсказывать сентимент, подготовим данные и сделаем валидационную выборку. При этом нужно оценивать качество модели не по обучающей выборке, а по валидационной. Иначе вы переобучитесь, когда будете тюнить гиперпараметры модели."
   ]
  },
  {
   "cell_type": "markdown",
   "metadata": {},
   "source": [
    "-----\n",
    "** Реализуйте код в модуле ```dmia.classifiers.logistic_regression```.**\n",
    "\n",
    "-----"
   ]
  },
  {
   "cell_type": "code",
   "execution_count": 15,
   "metadata": {
    "ExecuteTime": {
     "end_time": "2021-11-20T11:37:25.074339Z",
     "start_time": "2021-11-20T11:37:25.061990Z"
    }
   },
   "outputs": [],
   "source": [
    "from dmia.gradient_check import *\n",
    "from dmia.classifiers import LogisticRegression\n",
    "from sklearn.model_selection import train_test_split\n",
    "from sklearn.metrics import accuracy_score"
   ]
  },
  {
   "cell_type": "markdown",
   "metadata": {},
   "source": [
    "## Gradient check"
   ]
  },
  {
   "cell_type": "markdown",
   "metadata": {},
   "source": [
    "В этой ячейке вы можете проверить, правильно ли у вас все работает, прежде чем обучать модель на всех данных."
   ]
  },
  {
   "cell_type": "code",
   "execution_count": 20,
   "metadata": {
    "ExecuteTime": {
     "end_time": "2021-11-20T11:38:16.433574Z",
     "start_time": "2021-11-20T11:38:16.331764Z"
    }
   },
   "outputs": [
    {
     "name": "stdout",
     "output_type": "stream",
     "text": [
      "numerical: 0.000000 analytic: 0.000000, relative error: nan\n",
      "numerical: 0.000000 analytic: 0.000000, relative error: nan\n",
      "numerical: 0.000000 analytic: 0.000000, relative error: nan\n",
      "numerical: 0.000040 analytic: 0.000040, relative error: 6.823424e-08\n",
      "numerical: 0.000000 analytic: 0.000000, relative error: nan\n",
      "numerical: 0.000000 analytic: 0.000000, relative error: nan\n",
      "numerical: 0.000000 analytic: 0.000000, relative error: nan\n",
      "numerical: 0.000000 analytic: 0.000000, relative error: nan\n",
      "numerical: 0.000000 analytic: 0.000000, relative error: nan\n",
      "numerical: -0.000002 analytic: -0.000002, relative error: 1.188439e-06\n"
     ]
    },
    {
     "name": "stderr",
     "output_type": "stream",
     "text": [
      "/home/dmitrii/PycharmProjects/otus_hw10/dmia/gradient_check.py:50: RuntimeWarning: invalid value encountered in double_scalars\n",
      "  rel_error = abs(grad_numerical - grad_analytic) / (\n"
     ]
    }
   ],
   "source": [
    "X_train_sample = X_train[:10000]\n",
    "y_train_sample = y_train[:10000]\n",
    "clf = LogisticRegression()\n",
    "clf.w = np.random.randn(X_train_sample.shape[1]+1) * 2\n",
    "loss, grad = clf.loss(LogisticRegression.append_biases(X_train_sample), y_train_sample, 0.0)\n",
    "\n",
    "# Numerically compute the gradient along several randomly chosen dimensions, and\n",
    "# compare them with your analytically computed gradient. The numbers should match\n",
    "# almost exactly along all dimensions.\n",
    "f = lambda w: clf.loss(LogisticRegression.append_biases(X_train_sample), y_train_sample, 0.0)[0]\n",
    "grad_numerical = grad_check_sparse(f, clf.w, grad, 10)"
   ]
  },
  {
   "cell_type": "markdown",
   "metadata": {},
   "source": [
    "Обучите свою модель на ```X_train, y_train```.\n",
    "\n",
    "Для начала можете взять параметры по умолчанию, и найти оптимальные используя валидацию."
   ]
  },
  {
   "cell_type": "code",
   "execution_count": 90,
   "metadata": {
    "ExecuteTime": {
     "end_time": "2021-11-20T12:30:45.302696Z",
     "start_time": "2021-11-20T12:30:45.280201Z"
    }
   },
   "outputs": [],
   "source": [
    "clf = LogisticRegression()"
   ]
  },
  {
   "cell_type": "code",
   "execution_count": 91,
   "metadata": {
    "ExecuteTime": {
     "end_time": "2021-11-20T12:30:59.693981Z",
     "start_time": "2021-11-20T12:30:59.621367Z"
    }
   },
   "outputs": [
    {
     "data": {
      "text/plain": [
       "[0.6931021179670129,\n",
       " 0.6929951048565561,\n",
       " 0.6919302275621226,\n",
       " 0.6906012750750822,\n",
       " 0.6911783150976095,\n",
       " 0.6888256382368615,\n",
       " 0.6880546465552829,\n",
       " 0.6871521550350345,\n",
       " 0.6858408588427138,\n",
       " 0.6865796253593264]"
      ]
     },
     "execution_count": 91,
     "metadata": {},
     "output_type": "execute_result"
    }
   ],
   "source": [
    "clf.train(X_train, y_train, learning_rate=1.0, num_iters=100, batch_size=256, reg=1e-3)[:10]"
   ]
  },
  {
   "cell_type": "markdown",
   "metadata": {},
   "source": [
    "Посмотрим на качество на валидации."
   ]
  },
  {
   "cell_type": "code",
   "execution_count": 92,
   "metadata": {
    "ExecuteTime": {
     "end_time": "2021-11-20T12:31:03.023763Z",
     "start_time": "2021-11-20T12:31:02.923454Z"
    }
   },
   "outputs": [
    {
     "name": "stdout",
     "output_type": "stream",
     "text": [
      "Train f1-score = 0.809\n",
      "Test f1-score = 0.800\n"
     ]
    }
   ],
   "source": [
    "print(\"Train f1-score = %.3f\" % accuracy_score(y_train, clf.predict(X_train)))\n",
    "print(\"Test f1-score = %.3f\" % accuracy_score(y_test, clf.predict(X_test)))"
   ]
  },
  {
   "cell_type": "markdown",
   "metadata": {},
   "source": [
    "Нарисуем кривые обучения."
   ]
  },
  {
   "cell_type": "code",
   "execution_count": 93,
   "metadata": {
    "ExecuteTime": {
     "end_time": "2021-11-20T12:32:26.270187Z",
     "start_time": "2021-11-20T12:31:17.767184Z"
    },
    "scrolled": true
   },
   "outputs": [
    {
     "name": "stderr",
     "output_type": "stream",
     "text": [
      "100%|██████████| 1000/1000 [01:08<00:00, 14.61it/s]\n"
     ]
    }
   ],
   "source": [
    "clf = LogisticRegression()\n",
    "train_scores = []\n",
    "test_scores = []\n",
    "num_iters = 1000\n",
    "\n",
    "for i in tqdm.trange(num_iters):\n",
    "    # Сделайте один шаг градиентного спуска с помощью num_iters=1\n",
    "    clf.train(X_train, y_train, learning_rate=1.0, num_iters=1, batch_size=256, reg=1e-3)\n",
    "    train_scores.append(accuracy_score(y_train, clf.predict(X_train)))\n",
    "    test_scores.append(accuracy_score(y_test, clf.predict(X_test)))"
   ]
  },
  {
   "cell_type": "code",
   "execution_count": 94,
   "metadata": {
    "ExecuteTime": {
     "end_time": "2021-11-20T12:32:28.682744Z",
     "start_time": "2021-11-20T12:32:28.469380Z"
    }
   },
   "outputs": [
    {
     "data": {
      "text/plain": [
       "[<matplotlib.lines.Line2D at 0x7f043a59bd30>,\n",
       " <matplotlib.lines.Line2D at 0x7f043a59bd60>]"
      ]
     },
     "execution_count": 94,
     "metadata": {},
     "output_type": "execute_result"
    },
    {
     "data": {
      "image/png": "[encoded data removed]",
      "text/plain": [
       "<Figure size 720x576 with 1 Axes>"
      ]
     },
     "metadata": {
      "needs_background": "light"
     },
     "output_type": "display_data"
    }
   ],
   "source": [
    "plt.figure(figsize=(10,8))\n",
    "plt.plot(train_scores, 'r', test_scores, 'b')"
   ]
  },
  {
   "cell_type": "markdown",
   "metadata": {},
   "source": [
    "## 4. Задание\n",
    "\n",
    "* Обучим нашу модель **на всех данных**, преобразовав их через ```TfidfVectorizer``` с ```max_features=3000```.\n",
    "\n",
    "* Параметры модели ```learning_rate=1.0, num_iters=1000, batch_size=256, reg=1e-3``` и выведем первые 5 самых важных фичей для класса 1 и 5 фичей для класса 0. Убедимся, что они коррелируют с вашей интуицией о хороших/плохих отзывах. \n",
    "\n",
    "**Hint:** зная индекс фичи, само слово вы можете получить, используя метод ```vectorizer.get_feature_names()```.\n",
    "\n",
    "**Hint:** ```np.argsort```."
   ]
  },
  {
   "cell_type": "code",
   "execution_count": 95,
   "metadata": {
    "ExecuteTime": {
     "end_time": "2021-11-20T12:32:42.405762Z",
     "start_time": "2021-11-20T12:32:41.591716Z"
    }
   },
   "outputs": [
    {
     "name": "stdout",
     "output_type": "stream",
     "text": [
      "iteration 0 / 1000: loss 0.692770\n",
      "iteration 100 / 1000: loss 0.611683\n",
      "iteration 200 / 1000: loss 0.580502\n",
      "iteration 300 / 1000: loss 0.536000\n",
      "iteration 400 / 1000: loss 0.512349\n",
      "iteration 500 / 1000: loss 0.504803\n",
      "iteration 600 / 1000: loss 0.479071\n",
      "iteration 700 / 1000: loss 0.458280\n",
      "iteration 800 / 1000: loss 0.435662\n",
      "iteration 900 / 1000: loss 0.445861\n"
     ]
    },
    {
     "data": {
      "text/plain": [
       "[0.6927696896333907,\n",
       " 0.6914487895701702,\n",
       " 0.6909911788192629,\n",
       " 0.6919221093147327,\n",
       " 0.6897456912520064,\n",
       " 0.6889385010080034,\n",
       " 0.686716513124996,\n",
       " 0.6860843351090808,\n",
       " 0.6859914206816383,\n",
       " 0.6840142614088888,\n",
       " 0.6830066303850048,\n",
       " 0.6855931954042501,\n",
       " 0.682386417349353,\n",
       " 0.6808313807343883,\n",
       " 0.6772277515410043,\n",
       " 0.6820329426072818,\n",
       " 0.6793653361219815,\n",
       " 0.6768651028102384,\n",
       " 0.6752701952937062,\n",
       " 0.6779095145716055,\n",
       " 0.6726661360563193,\n",
       " 0.6775700115010456,\n",
       " 0.6738669435797543,\n",
       " 0.6738392621618216,\n",
       " 0.6746669538683869,\n",
       " 0.6695309278949135,\n",
       " 0.6734828931736561,\n",
       " 0.6714789038846658,\n",
       " 0.6726796203056604,\n",
       " 0.6656143501713654,\n",
       " 0.6711244071150969,\n",
       " 0.6663526510299265,\n",
       " 0.6644943675901257,\n",
       " 0.6627992586361147,\n",
       " 0.6677010426729222,\n",
       " 0.6669163640095446,\n",
       " 0.6622409244638952,\n",
       " 0.6627234975594551,\n",
       " 0.6643669405531865,\n",
       " 0.6566011686769977,\n",
       " 0.6576828055079403,\n",
       " 0.659010011619301,\n",
       " 0.6557445553139394,\n",
       " 0.6575867560847322,\n",
       " 0.6507250279456334,\n",
       " 0.6613777416411672,\n",
       " 0.6556772112680702,\n",
       " 0.6586847581057149,\n",
       " 0.6556709428793623,\n",
       " 0.6544344026096498,\n",
       " 0.6536550608487851,\n",
       " 0.6528175954747982,\n",
       " 0.6556076296405572,\n",
       " 0.6447485106205311,\n",
       " 0.6495920503546112,\n",
       " 0.6437412057818493,\n",
       " 0.6488400770297862,\n",
       " 0.6461092727096828,\n",
       " 0.6434632010483636,\n",
       " 0.6518712656663654,\n",
       " 0.6429341016538344,\n",
       " 0.6513967545982022,\n",
       " 0.6391743662971693,\n",
       " 0.63730098167405,\n",
       " 0.6421621332464633,\n",
       " 0.6429340879893335,\n",
       " 0.6476933746157729,\n",
       " 0.6468786515316988,\n",
       " 0.6440912096836063,\n",
       " 0.643045368187191,\n",
       " 0.6405893732507055,\n",
       " 0.6411318999690596,\n",
       " 0.6377137137105359,\n",
       " 0.6395383609572134,\n",
       " 0.643178102915558,\n",
       " 0.6286676284458946,\n",
       " 0.6307864644251227,\n",
       " 0.6323059610213237,\n",
       " 0.6357481427904457,\n",
       " 0.6363242853151074,\n",
       " 0.6340813699723203,\n",
       " 0.622320148891863,\n",
       " 0.6186196049102239,\n",
       " 0.6321889690593887,\n",
       " 0.6281290241586355,\n",
       " 0.6396677151192424,\n",
       " 0.6258076507478418,\n",
       " 0.6241921833273864,\n",
       " 0.6338921479575282,\n",
       " 0.6237831775745439,\n",
       " 0.6273317947089406,\n",
       " 0.6308360520022706,\n",
       " 0.6218092561976756,\n",
       " 0.6258934608590448,\n",
       " 0.627206481129536,\n",
       " 0.6184708730262423,\n",
       " 0.6214757829903472,\n",
       " 0.6270074537335101,\n",
       " 0.6169064083039114,\n",
       " 0.623989467340974,\n",
       " 0.6116831298456789,\n",
       " 0.6184857545256087,\n",
       " 0.621610629171498,\n",
       " 0.6145662422799524,\n",
       " 0.6229057582600515,\n",
       " 0.6175394743148491,\n",
       " 0.6096376740194684,\n",
       " 0.6230779355638733,\n",
       " 0.6170981810496657,\n",
       " 0.623680649395359,\n",
       " 0.6196173982746597,\n",
       " 0.6215971157145104,\n",
       " 0.609915377868178,\n",
       " 0.6173566198845384,\n",
       " 0.6196787120276886,\n",
       " 0.6113878367391943,\n",
       " 0.6160887011615594,\n",
       " 0.6189482746572991,\n",
       " 0.612620500196474,\n",
       " 0.6029390201879412,\n",
       " 0.6053888071769807,\n",
       " 0.6080069476289575,\n",
       " 0.6081056804514212,\n",
       " 0.6056058781424143,\n",
       " 0.6102513653272519,\n",
       " 0.611055559493813,\n",
       " 0.5898588465786653,\n",
       " 0.6083941027795351,\n",
       " 0.5988479638670688,\n",
       " 0.5957803815928185,\n",
       " 0.6049054433230336,\n",
       " 0.6042461795866193,\n",
       " 0.5970471428301029,\n",
       " 0.6016729973537182,\n",
       " 0.6054846718212481,\n",
       " 0.6125263032876889,\n",
       " 0.605658740469562,\n",
       " 0.6130532442783184,\n",
       " 0.5805608005321339,\n",
       " 0.6037085796064767,\n",
       " 0.5975378579817988,\n",
       " 0.601887032356123,\n",
       " 0.6042352550921799,\n",
       " 0.5956910415175348,\n",
       " 0.5975527323952607,\n",
       " 0.5975575515053791,\n",
       " 0.5772377951196768,\n",
       " 0.5988743613476714,\n",
       " 0.5938765671973989,\n",
       " 0.6114543400374035,\n",
       " 0.5928978372476318,\n",
       " 0.6079369090044064,\n",
       " 0.5943744536548967,\n",
       " 0.6074630940524123,\n",
       " 0.5825369003934885,\n",
       " 0.5839561852527353,\n",
       " 0.5883610857277737,\n",
       " 0.5903026555587622,\n",
       " 0.5866523453716043,\n",
       " 0.5925709055372829,\n",
       " 0.5901288538684761,\n",
       " 0.5870398046852094,\n",
       " 0.5976261639642908,\n",
       " 0.5874298865153929,\n",
       " 0.6025482489524845,\n",
       " 0.5750974023321889,\n",
       " 0.5852571674573125,\n",
       " 0.5849498884501024,\n",
       " 0.5669384397797721,\n",
       " 0.5899184825433982,\n",
       " 0.586191972903152,\n",
       " 0.5865411642452244,\n",
       " 0.593431028756008,\n",
       " 0.5773274299722986,\n",
       " 0.5999557246810885,\n",
       " 0.5810251990549989,\n",
       " 0.5861498267126304,\n",
       " 0.5978990322089021,\n",
       " 0.5866674459795261,\n",
       " 0.5868192761034045,\n",
       " 0.5777634617374686,\n",
       " 0.5925285969241261,\n",
       " 0.5954921942202892,\n",
       " 0.5771259270347674,\n",
       " 0.5873355999123873,\n",
       " 0.5832221573242157,\n",
       " 0.5755840548149538,\n",
       " 0.5822958057932122,\n",
       " 0.5646480683821923,\n",
       " 0.5704162701980285,\n",
       " 0.5760696927841339,\n",
       " 0.5859105753446531,\n",
       " 0.582889557626548,\n",
       " 0.5741100572068202,\n",
       " 0.5585329870445397,\n",
       " 0.5774394468633052,\n",
       " 0.5760655583187007,\n",
       " 0.5716430729182198,\n",
       " 0.5775298313086247,\n",
       " 0.5790774580743077,\n",
       " 0.5805016179873763,\n",
       " 0.5650601157281072,\n",
       " 0.5616097555704478,\n",
       " 0.5720019835800527,\n",
       " 0.5619422432334763,\n",
       " 0.5831627840541171,\n",
       " 0.5956858457529643,\n",
       " 0.5477986245866059,\n",
       " 0.5744974944719178,\n",
       " 0.5606817836223282,\n",
       " 0.582750085919406,\n",
       " 0.5488847583666584,\n",
       " 0.5940210995303337,\n",
       " 0.5808534386749263,\n",
       " 0.5677630407930676,\n",
       " 0.5628564694791968,\n",
       " 0.573230392662284,\n",
       " 0.5753825499905549,\n",
       " 0.5717088162639605,\n",
       " 0.5770016250092359,\n",
       " 0.5556475837841949,\n",
       " 0.5613336927273311,\n",
       " 0.5600527204643592,\n",
       " 0.5631402941526411,\n",
       " 0.580746331563202,\n",
       " 0.5748904651908778,\n",
       " 0.569944709895505,\n",
       " 0.5496164675240731,\n",
       " 0.555931615354711,\n",
       " 0.5669698875116859,\n",
       " 0.568221651543824,\n",
       " 0.5478669148582527,\n",
       " 0.5659827772927181,\n",
       " 0.5602676227882637,\n",
       " 0.5630627274151612,\n",
       " 0.5548174502117587,\n",
       " 0.5764139904312278,\n",
       " 0.5495559156844692,\n",
       " 0.5703755758563704,\n",
       " 0.5609938023812693,\n",
       " 0.5593803082426292,\n",
       " 0.5570372014343681,\n",
       " 0.564172716445889,\n",
       " 0.5435117227675639,\n",
       " 0.5495748926467949,\n",
       " 0.5687122397318123,\n",
       " 0.5607575332566783,\n",
       " 0.5507270440550837,\n",
       " 0.5603137627723924,\n",
       " 0.5696425862491983,\n",
       " 0.5451510105900191,\n",
       " 0.5572269806104445,\n",
       " 0.54672573927092,\n",
       " 0.5636642665374978,\n",
       " 0.5645274596261625,\n",
       " 0.5547398809320313,\n",
       " 0.5475143964035117,\n",
       " 0.5666104692977932,\n",
       " 0.5467484826181206,\n",
       " 0.5573905020224238,\n",
       " 0.5568616146833174,\n",
       " 0.5472593108669445,\n",
       " 0.55480256737915,\n",
       " 0.539130754612017,\n",
       " 0.5424153079373516,\n",
       " 0.5341452186436143,\n",
       " 0.5488154237275895,\n",
       " 0.5385478333421385,\n",
       " 0.5403137456501775,\n",
       " 0.5210732971625218,\n",
       " 0.5486300545373746,\n",
       " 0.5542575554571927,\n",
       " 0.5478547682768724,\n",
       " 0.5224662960416367,\n",
       " 0.5580851646233205,\n",
       " 0.5374940623765738,\n",
       " 0.569913932662827,\n",
       " 0.5434212020443421,\n",
       " 0.5361049895631175,\n",
       " 0.5500095007557599,\n",
       " 0.558456434897626,\n",
       " 0.5462324443741617,\n",
       " 0.5395340872902711,\n",
       " 0.5342196546333731,\n",
       " 0.568013571767554,\n",
       " 0.5356936118418868,\n",
       " 0.553289083409826,\n",
       " 0.5484134047511121,\n",
       " 0.5300961331633701,\n",
       " 0.5365256768950623,\n",
       " 0.5476225297447963,\n",
       " 0.5380947390121535,\n",
       " 0.5552549948123111,\n",
       " 0.551783601819004,\n",
       " 0.5391351945300668,\n",
       " 0.5451620771626227,\n",
       " 0.5397276902730902,\n",
       " 0.524006031445653,\n",
       " 0.5489426582637821,\n",
       " 0.5347133018613794,\n",
       " 0.5359995968503773,\n",
       " 0.5477400344813859,\n",
       " 0.5344157324207508,\n",
       " 0.5321490411319664,\n",
       " 0.5370785562638707,\n",
       " 0.5263152643187854,\n",
       " 0.5375507775715137,\n",
       " 0.5411885381132625,\n",
       " 0.5379194513523845,\n",
       " 0.5354120976179444,\n",
       " 0.5269062364020819,\n",
       " 0.5240929816933115,\n",
       " 0.5393321060162383,\n",
       " 0.5207855432741987,\n",
       " 0.5308448223780958,\n",
       " 0.5099376478276033,\n",
       " 0.5469122665512518,\n",
       " 0.5361386813813237,\n",
       " 0.5471593764399114,\n",
       " 0.5344381436581004,\n",
       " 0.5508000865667974,\n",
       " 0.518978969145678,\n",
       " 0.5294362520545552,\n",
       " 0.5250740163534945,\n",
       " 0.5319271367095776,\n",
       " 0.5379576918993606,\n",
       " 0.5314251127167702,\n",
       " 0.5396636008324588,\n",
       " 0.5340249947034929,\n",
       " 0.54758819087417,\n",
       " 0.5469135758616135,\n",
       " 0.5373137729379702,\n",
       " 0.5328106003613198,\n",
       " 0.5313143752781707,\n",
       " 0.5352334988824213,\n",
       " 0.5168525876347626,\n",
       " 0.5551485297772282,\n",
       " 0.5287001209858342,\n",
       " 0.5372971457615712,\n",
       " 0.5160314666063576,\n",
       " 0.512920060590636,\n",
       " 0.5338858236644565,\n",
       " 0.5294959944377976,\n",
       " 0.526362898157982,\n",
       " 0.5512661843510116,\n",
       " 0.535129186411728,\n",
       " 0.535771695503959,\n",
       " 0.5196080439289433,\n",
       " 0.539723841654913,\n",
       " 0.5400401954191382,\n",
       " 0.5338372446005767,\n",
       " 0.5095512945577851,\n",
       " 0.5421931601831093,\n",
       " 0.5169343702416952,\n",
       " 0.5205744353885235,\n",
       " 0.5369022512623884,\n",
       " 0.5214254388799476,\n",
       " 0.530099309438748,\n",
       " 0.5313811309139537,\n",
       " 0.5221536430228585,\n",
       " 0.5287412250409909,\n",
       " 0.5259750650799097,\n",
       " 0.5329334394423002,\n",
       " 0.5206935929768529,\n",
       " 0.5219265615884462,\n",
       " 0.5110652518277459,\n",
       " 0.510893383785664,\n",
       " 0.503500120652074,\n",
       " 0.5127721801446233,\n",
       " 0.5370073730654024,\n",
       " 0.5331228446171992,\n",
       " 0.5044731563806018,\n",
       " 0.5230738703523516,\n",
       " 0.5103490193632381,\n",
       " 0.5183714419644867,\n",
       " 0.5016060491972886,\n",
       " 0.5025614833909708,\n",
       " 0.49561198345508684,\n",
       " 0.49934687275981493,\n",
       " 0.5269912667408532,\n",
       " 0.527244558568787,\n",
       " 0.5353122464690939,\n",
       " 0.5112359877432392,\n",
       " 0.5270524881872889,\n",
       " 0.49767782793070214,\n",
       " 0.5191145809974628,\n",
       " 0.516106800655727,\n",
       " 0.5080598513161245,\n",
       " 0.5060343509130296,\n",
       " 0.533798107168783,\n",
       " 0.5232193721971561,\n",
       " 0.549677236181405,\n",
       " 0.5179494594376584,\n",
       " 0.4954432229312468,\n",
       " 0.5001792400445987,\n",
       " 0.5182739804650864,\n",
       " 0.5545287921188893,\n",
       " 0.5112230124730227,\n",
       " 0.5313086160376251,\n",
       " 0.528177871963655,\n",
       " 0.5123486638053604,\n",
       " 0.511404098225978,\n",
       " 0.5290510672549703,\n",
       " 0.5233807271041767,\n",
       " 0.5059896913402766,\n",
       " 0.5021205900303998,\n",
       " 0.500685686518461,\n",
       " 0.4931844709745209,\n",
       " 0.5238644673285869,\n",
       " 0.49212370102479264,\n",
       " 0.5166309141886348,\n",
       " 0.5200466458915636,\n",
       " 0.5069857701978241,\n",
       " 0.48602534396434094,\n",
       " 0.512204892783395,\n",
       " 0.5094645785601427,\n",
       " 0.52484577382992,\n",
       " 0.5072040737878191,\n",
       " 0.5274332594254075,\n",
       " 0.4947154348119396,\n",
       " 0.4791678100643918,\n",
       " 0.5222146609609805,\n",
       " 0.5153715341706432,\n",
       " 0.5132568549111671,\n",
       " 0.5104624466324532,\n",
       " 0.5363854251126258,\n",
       " 0.5140252278260675,\n",
       " 0.5177472431079451,\n",
       " 0.48976825705093674,\n",
       " 0.5099876343816908,\n",
       " 0.5278022388759223,\n",
       " 0.5412465131047985,\n",
       " 0.5296429567902438,\n",
       " 0.49329957800635543,\n",
       " 0.49712502311253043,\n",
       " 0.5032342971325655,\n",
       " 0.49049450409034295,\n",
       " 0.49442047999002375,\n",
       " 0.5030629144608595,\n",
       " 0.5240618153279403,\n",
       " 0.5248721643818243,\n",
       " 0.515400855629721,\n",
       " 0.5256076317749171,\n",
       " 0.4598966461436368,\n",
       " 0.49278209540949364,\n",
       " 0.4696423537354788,\n",
       " 0.4938077593504152,\n",
       " 0.5148954535464736,\n",
       " 0.49874650728413,\n",
       " 0.4932196924583702,\n",
       " 0.48254271963447865,\n",
       " 0.5205159355110625,\n",
       " 0.4898354226373857,\n",
       " 0.4940060893295385,\n",
       " 0.5094492611499429,\n",
       " 0.5290161370331945,\n",
       " 0.5279499347380591,\n",
       " 0.530358145921876,\n",
       " 0.543286768907771,\n",
       " 0.5037827845538639,\n",
       " 0.5013733720187781,\n",
       " 0.5089599228471464,\n",
       " 0.4842698990665769,\n",
       " 0.5062424827674311,\n",
       " 0.49826432347314953,\n",
       " 0.4892534748287951,\n",
       " 0.49814661183429115,\n",
       " 0.49021256584116696,\n",
       " 0.5088490161330916,\n",
       " 0.52417972931765,\n",
       " 0.4850153587688343,\n",
       " 0.5084972384693415,\n",
       " 0.516193029223026,\n",
       " 0.5157057635380874,\n",
       " 0.4971048655215422,\n",
       " 0.4673335208963447,\n",
       " 0.4858359380935402,\n",
       " 0.4998812471145688,\n",
       " 0.47736980708753207,\n",
       " 0.49040705566434256,\n",
       " 0.49321828408012397,\n",
       " 0.5050926669236185,\n",
       " 0.48947806536436034,\n",
       " 0.47694226963281705,\n",
       " 0.49665116961973094,\n",
       " 0.4941525712755966,\n",
       " 0.5260980069629861,\n",
       " 0.48148488762918773,\n",
       " 0.5201228732036718,\n",
       " 0.4969992008375823,\n",
       " 0.4895238716480183,\n",
       " 0.48878662004828927,\n",
       " 0.491422217808882,\n",
       " 0.47007436948839576,\n",
       " 0.4960506910999315,\n",
       " 0.4894930707262186,\n",
       " 0.5075883449723968,\n",
       " 0.5118470362453019,\n",
       " 0.48703502192492654,\n",
       " 0.49884553099101736,\n",
       " 0.5048026448559564,\n",
       " 0.5244961154167878,\n",
       " 0.5163246831141022,\n",
       " 0.4874129062681289,\n",
       " 0.49181345477994404,\n",
       " 0.5012099277062914,\n",
       " 0.5026527623030458,\n",
       " 0.5001261681618794,\n",
       " 0.4955996800435681,\n",
       " 0.4728274543927212,\n",
       " 0.5027261059577268,\n",
       " 0.48891983136361533,\n",
       " 0.5034765862829704,\n",
       " 0.5008912407989992,\n",
       " 0.49000525092961494,\n",
       " 0.48348408339941046,\n",
       " 0.49659031199540526,\n",
       " 0.48895234079085653,\n",
       " 0.48379483856457556,\n",
       " 0.4870642887052815,\n",
       " 0.46443020801226087,\n",
       " 0.4980439612341664,\n",
       " 0.4824375989647037,\n",
       " 0.49793438460385026,\n",
       " 0.47537089012805284,\n",
       " 0.4827990807522719,\n",
       " 0.4843473700908297,\n",
       " 0.4870892346879549,\n",
       " 0.49203432237772,\n",
       " 0.4823799611379181,\n",
       " 0.4783915221455878,\n",
       " 0.4940018863823004,\n",
       " 0.48620327448098216,\n",
       " 0.4796654887960606,\n",
       " 0.4900548282997351,\n",
       " 0.4858629011239866,\n",
       " 0.47326007126676756,\n",
       " 0.4703005347166887,\n",
       " 0.4906284714919897,\n",
       " 0.4770869844297795,\n",
       " 0.4784306795470821,\n",
       " 0.4921128376988965,\n",
       " 0.4828065923614194,\n",
       " 0.463349907543851,\n",
       " 0.4703039373954386,\n",
       " 0.48370868893303065,\n",
       " 0.4780095542272382,\n",
       " 0.497967266006578,\n",
       " 0.4902310386125168,\n",
       " 0.5050854031471989,\n",
       " 0.44910024938839727,\n",
       " 0.502303602927254,\n",
       " 0.49200300036535755,\n",
       " 0.4919021060594911,\n",
       " 0.474590521141366,\n",
       " 0.48209417459910936,\n",
       " 0.4835538786839012,\n",
       " 0.5091481824178982,\n",
       " 0.4691089710465963,\n",
       " 0.4840860524728815,\n",
       " 0.4829907942751511,\n",
       " 0.5002108116116399,\n",
       " 0.46497746929221356,\n",
       " 0.4737477158390658,\n",
       " 0.5216979901547294,\n",
       " 0.4960211522623227,\n",
       " 0.47309503218258175,\n",
       " 0.5042026073191564,\n",
       " 0.4887419581978258,\n",
       " 0.46636990094489017,\n",
       " 0.48281547216814946,\n",
       " 0.48328613485026795,\n",
       " 0.4522831451177449,\n",
       " 0.49073088945955556,\n",
       " 0.5022016307924775,\n",
       " 0.5006684971204496,\n",
       " 0.4648596154192324,\n",
       " 0.4705096254413194,\n",
       " 0.4589611951644002,\n",
       " 0.4973183169359894,\n",
       " 0.48167992252080166,\n",
       " 0.48354395800165717,\n",
       " 0.4757718107579252,\n",
       " 0.47045403292068166,\n",
       " 0.475629213601653,\n",
       " 0.47981514809221654,\n",
       " 0.4944840856005968,\n",
       " 0.48542033360659226,\n",
       " 0.48069496281860696,\n",
       " 0.5044892537846564,\n",
       " 0.503330139633031,\n",
       " 0.48325238723349956,\n",
       " 0.4834813784782992,\n",
       " 0.4630783169538298,\n",
       " 0.46573247915152655,\n",
       " 0.4582678572967889,\n",
       " 0.48204410675792064,\n",
       " 0.480059168943713,\n",
       " 0.49333130472304937,\n",
       " 0.4540540691277549,\n",
       " 0.4790705375795312,\n",
       " 0.4836200616811917,\n",
       " 0.47905730946143327,\n",
       " 0.47634779447855413,\n",
       " 0.4903820340341496,\n",
       " 0.4704882380472171,\n",
       " 0.46852363343916575,\n",
       " 0.45895887646481454,\n",
       " 0.4676623308525586,\n",
       " 0.4498358356641146,\n",
       " 0.49151837151513633,\n",
       " 0.5142254701799563,\n",
       " 0.4845189635153987,\n",
       " 0.48476940769984367,\n",
       " 0.488698693784313,\n",
       " 0.4696181160458701,\n",
       " 0.47246606954619225,\n",
       " 0.4774518977096145,\n",
       " 0.4799215276197215,\n",
       " 0.4556587592655703,\n",
       " 0.4866018803720502,\n",
       " 0.4565289952139727,\n",
       " 0.47363043682115663,\n",
       " 0.46273518024704036,\n",
       " 0.4630391235800085,\n",
       " 0.48635553552971444,\n",
       " 0.4665583965566535,\n",
       " 0.4818113595815985,\n",
       " 0.4956733457616636,\n",
       " 0.4535354876074579,\n",
       " 0.44848196824205333,\n",
       " 0.46522635436300813,\n",
       " 0.46599346339922354,\n",
       " 0.4915140094188857,\n",
       " 0.48683032698717665,\n",
       " 0.4681529103154031,\n",
       " 0.4725095423270478,\n",
       " 0.4806151331168396,\n",
       " 0.4433894870813101,\n",
       " 0.5007069236244265,\n",
       " 0.49090211431866465,\n",
       " 0.45602561379163853,\n",
       " 0.47594701458712074,\n",
       " 0.45304346197967144,\n",
       " 0.46839138011837933,\n",
       " 0.4805406462043197,\n",
       " 0.46016297327963346,\n",
       " 0.48818532887146554,\n",
       " 0.47678201930587844,\n",
       " 0.4624211647117412,\n",
       " 0.4428259396746306,\n",
       " 0.4646632399694996,\n",
       " 0.45553496981188096,\n",
       " 0.46747518903725704,\n",
       " 0.48494354933911527,\n",
       " 0.4560872782490379,\n",
       " 0.4688461814551503,\n",
       " 0.4841801731822727,\n",
       " 0.48958628472717014,\n",
       " 0.4830648757056069,\n",
       " 0.48552416614929755,\n",
       " 0.4533535356121852,\n",
       " 0.4603704902393995,\n",
       " 0.474550387188469,\n",
       " 0.4582975021206813,\n",
       " 0.47086506889131563,\n",
       " 0.4636105929385973,\n",
       " 0.43125562318592137,\n",
       " 0.46453392163744606,\n",
       " 0.49842836294592086,\n",
       " 0.4748863818314027,\n",
       " 0.48076906733932306,\n",
       " 0.4583820996945254,\n",
       " 0.4731225011587266,\n",
       " 0.483297688209498,\n",
       " 0.4879920344220531,\n",
       " 0.4753748375305425,\n",
       " 0.47072488209466384,\n",
       " 0.4513072466342775,\n",
       " 0.47828134172152914,\n",
       " 0.4708995998143452,\n",
       " 0.4492908271382705,\n",
       " 0.4553917378766056,\n",
       " 0.4562750294048091,\n",
       " 0.4450377984369942,\n",
       " 0.46973410170261265,\n",
       " 0.4875888959791007,\n",
       " 0.4476021206135304,\n",
       " 0.44831965855452693,\n",
       " 0.464274352179974,\n",
       " 0.4623444245238088,\n",
       " 0.48842877467724677,\n",
       " 0.43096492606572895,\n",
       " 0.46848021948868224,\n",
       " 0.4613957448076682,\n",
       " 0.4381426391783668,\n",
       " 0.44406705603234425,\n",
       " 0.449078048913729,\n",
       " 0.4534317321397595,\n",
       " 0.4779445219510697,\n",
       " 0.4582795167738889,\n",
       " 0.46175222509167835,\n",
       " 0.46718149354481525,\n",
       " 0.4701444031818542,\n",
       " 0.459043911115818,\n",
       " 0.4615874041935394,\n",
       " 0.4550526520243575,\n",
       " 0.4547371548742262,\n",
       " 0.450463771164181,\n",
       " 0.4485618742694388,\n",
       " 0.4686549153784422,\n",
       " 0.4885294886509443,\n",
       " 0.4700773260326538,\n",
       " 0.44606755350756033,\n",
       " 0.4820676944801425,\n",
       " 0.4482225137591667,\n",
       " 0.45931801046377396,\n",
       " 0.46967280139185813,\n",
       " 0.4772697112574108,\n",
       " 0.4556046768250504,\n",
       " 0.47396132143845326,\n",
       " 0.48497952976768555,\n",
       " 0.4775818119430744,\n",
       " 0.4615176349025099,\n",
       " 0.4792147386500244,\n",
       " 0.46361802616419096,\n",
       " 0.46697340715278146,\n",
       " 0.4955998567007242,\n",
       " 0.4572301433909495,\n",
       " 0.487314453504082,\n",
       " 0.4670976158537391,\n",
       " 0.4619875035051653,\n",
       " 0.4360324304940784,\n",
       " 0.444686366246983,\n",
       " 0.456022999799521,\n",
       " 0.448405759014676,\n",
       " 0.46523199523987624,\n",
       " 0.45976385314025386,\n",
       " 0.45409435548142674,\n",
       " 0.45451327018687127,\n",
       " 0.4586087305266606,\n",
       " 0.48832251512370206,\n",
       " 0.4394622355886818,\n",
       " 0.4645825941125982,\n",
       " 0.4804780867281152,\n",
       " 0.4395338459297927,\n",
       " 0.4657382127134802,\n",
       " 0.482014276107491,\n",
       " 0.4713057977050828,\n",
       " 0.4709943913148267,\n",
       " 0.4706849870006711,\n",
       " 0.4903223547103007,\n",
       " 0.4883944113101472,\n",
       " 0.4686669981754201,\n",
       " 0.443792156939284,\n",
       " 0.44358954422470037,\n",
       " 0.45461362820623813,\n",
       " 0.47763822322064026,\n",
       " 0.4545305005963649,\n",
       " 0.4742602533389956,\n",
       " 0.4777734224198785,\n",
       " 0.45712015214639623,\n",
       " 0.4540637407758528,\n",
       " 0.4435960414902049,\n",
       " 0.47730174377059215,\n",
       " 0.4600609890522408,\n",
       " 0.4678392707998306,\n",
       " 0.45855830308030543,\n",
       " 0.5081154502302139,\n",
       " 0.49796699962541874,\n",
       " 0.47146444793323894,\n",
       " 0.467478970482702,\n",
       " 0.4575551205370263,\n",
       " 0.45472486472974855,\n",
       " 0.45846517597234693,\n",
       " 0.4724433429089207,\n",
       " 0.43590870736374365,\n",
       " 0.48531483998368086,\n",
       " 0.4581765811477258,\n",
       " 0.46606615600803913,\n",
       " 0.45483361220544166,\n",
       " 0.4794172783197964,\n",
       " 0.4644390132517162,\n",
       " 0.4664665051736957,\n",
       " 0.4622038832158366,\n",
       " 0.4654026616545774,\n",
       " 0.48428393165129996,\n",
       " 0.4384047816714931,\n",
       " 0.4873599184960041,\n",
       " 0.4413241514880607,\n",
       " 0.4614821686824965,\n",
       " 0.4456984740206665,\n",
       " 0.4248477715883756,\n",
       " 0.45598890839866685,\n",
       " 0.45924551871396135,\n",
       " 0.46133050716525803,\n",
       " 0.47014900175651725,\n",
       " 0.47763501222292104,\n",
       " 0.4382900017078109,\n",
       " 0.45973693228374124,\n",
       " 0.4356620971995605,\n",
       " 0.44309142172685956,\n",
       " 0.428004439870371,\n",
       " 0.4965559811659856,\n",
       " 0.4540397339415327,\n",
       " 0.44232902076941705,\n",
       " 0.4682268165555758,\n",
       " 0.434863279478002,\n",
       " 0.43215123575770437,\n",
       " 0.4448928565218185,\n",
       " 0.47299855390048345,\n",
       " 0.4811999335142049,\n",
       " 0.4588236326905469,\n",
       " 0.44519711078963803,\n",
       " 0.44696379674131376,\n",
       " 0.4491291311886065,\n",
       " 0.43497767358559586,\n",
       " 0.483201508321881,\n",
       " 0.42660358493319456,\n",
       " 0.4837705162097141,\n",
       " 0.41998287133710144,\n",
       " 0.43201090084418264,\n",
       " 0.46346292049699156,\n",
       " 0.4831081165199269,\n",
       " 0.4589257020446641,\n",
       " 0.46893580889502506,\n",
       " 0.4387390024778284,\n",
       " 0.4553001132343611,\n",
       " 0.4583540327726401,\n",
       " 0.44663559165904365,\n",
       " 0.4652170677479372,\n",
       " 0.43767307701530556,\n",
       " 0.4410135273841662,\n",
       " 0.48368058861054375,\n",
       " 0.438222340103718,\n",
       " 0.4806614336579757,\n",
       " 0.43083565397214174,\n",
       " 0.4358742345502248,\n",
       " 0.4552727887502343,\n",
       " 0.43759171859728707,\n",
       " 0.4389204006270951,\n",
       " 0.4707567005496705,\n",
       " 0.43081326950483856,\n",
       " 0.44045505879914154,\n",
       " 0.45824173120040607,\n",
       " 0.466745124488549,\n",
       " 0.44631075759744804,\n",
       " 0.4353455226535974,\n",
       " 0.44966896390257677,\n",
       " 0.4386630909115547,\n",
       " 0.4494066931269821,\n",
       " 0.4422523858801175,\n",
       " 0.43990428935691467,\n",
       " 0.4727552832034423,\n",
       " 0.45522083128408386,\n",
       " 0.4134740548826081,\n",
       " 0.45848118505049185,\n",
       " 0.44151083968581023,\n",
       " 0.4475326482116334,\n",
       " 0.4714261030619037,\n",
       " 0.43617194156441874,\n",
       " 0.47026986366620693,\n",
       " 0.42573358708975756,\n",
       " 0.44096952120534694,\n",
       " 0.44404411628679535,\n",
       " 0.4142614101981083,\n",
       " 0.46677081218389965,\n",
       " 0.4622296171538931,\n",
       " 0.4530509142026754,\n",
       " 0.453866778905469,\n",
       " 0.4419125684785176,\n",
       " 0.43978487299985736,\n",
       " 0.4573982053304239,\n",
       " 0.43073328359480006,\n",
       " 0.4403321967363016,\n",
       " 0.40507463188235926,\n",
       " 0.4504006917879111,\n",
       " 0.4264065952109898,\n",
       " 0.41641345516671374,\n",
       " 0.4508065586557023,\n",
       " 0.44157350816729535,\n",
       " 0.4338262280392352,\n",
       " 0.425749036057202,\n",
       " 0.4235223319464655,\n",
       " 0.40211486292297527,\n",
       " 0.4430430624777671,\n",
       " 0.46036905711112364,\n",
       " 0.4174846277044325,\n",
       " 0.43425137263888247,\n",
       " 0.4621719380994618,\n",
       " 0.43061477419561395,\n",
       " 0.43572536913470594,\n",
       " 0.4525539652934806,\n",
       " 0.4505510432339319,\n",
       " 0.4354400722370906,\n",
       " 0.4358799972055382,\n",
       " 0.46041191249306385,\n",
       " 0.47642992589844707,\n",
       " 0.44714891041639027,\n",
       " 0.4648323336706727,\n",
       " 0.44586061818228223,\n",
       " 0.4400193180233874,\n",
       " 0.44560393809463694,\n",
       " 0.41460677717692557,\n",
       " 0.4653434324641427,\n",
       " 0.4346804516646212,\n",
       " 0.41597662704685867,\n",
       " 0.43264843829236244,\n",
       " 0.4532488361095101,\n",
       " 0.42571650043036624,\n",
       " 0.4372590394984972,\n",
       " 0.4637417434238713,\n",
       " 0.42454716123342795,\n",
       " 0.44541666547859976,\n",
       " 0.4393663294843884,\n",
       " 0.41057006130067214,\n",
       " 0.41807784533172254,\n",
       " 0.43870974229079857,\n",
       " 0.4492171786816068,\n",
       " 0.43542929585294643,\n",
       " 0.4313551628099411,\n",
       " 0.42400840811361384,\n",
       " 0.4316836794347687,\n",
       " 0.44905210350296704,\n",
       " 0.40917483114311565,\n",
       " 0.473124443034474,\n",
       " 0.4151954830877792,\n",
       " 0.44337754713886085,\n",
       " 0.43306351477589156,\n",
       " 0.4189356119298218,\n",
       " 0.44785260240779035,\n",
       " 0.4410484303847834,\n",
       " 0.44315123686823366,\n",
       " 0.44674456521572703,\n",
       " 0.425052555247927,\n",
       " 0.42765012404655806,\n",
       " 0.4425726375054689,\n",
       " 0.4474598367808995,\n",
       " 0.4256090718048755,\n",
       " 0.482268732541759,\n",
       " 0.44661738194112355,\n",
       " 0.4719839007731671,\n",
       " 0.44507303850874946,\n",
       " 0.4455374958645596,\n",
       " 0.44992917342929745,\n",
       " 0.4229781024576631,\n",
       " 0.42464461239017215,\n",
       " 0.4514524229259434,\n",
       " 0.40640145854340887,\n",
       " 0.43797280561551716,\n",
       " 0.4506715776517373,\n",
       " 0.4300749569851749,\n",
       " 0.4255343508989928,\n",
       " 0.4428516975000195,\n",
       " 0.43619155135564486,\n",
       " 0.47771253279679304,\n",
       " 0.42924351781818665,\n",
       " 0.40742160507655906,\n",
       " 0.47883346817249706,\n",
       " 0.42411879696297033,\n",
       " 0.44044711080820115,\n",
       " 0.43029399188402456,\n",
       " 0.4549110711562441,\n",
       " 0.44001913540701293,\n",
       " 0.44982010246909226,\n",
       " 0.4371461444865982,\n",
       " 0.4658110036766148,\n",
       " 0.40459451082208125,\n",
       " 0.45466840758111055,\n",
       " 0.43783575869070435,\n",
       " 0.4493537760350259,\n",
       " 0.4323303951645292,\n",
       " 0.43341855717692185,\n",
       " 0.432518424699926,\n",
       " 0.4373125614136308,\n",
       " 0.45290117385041234,\n",
       " 0.46387808168326844,\n",
       " 0.4204132091516702,\n",
       " 0.4455944396756678,\n",
       " 0.4166247649686637,\n",
       " 0.4699167786019706,\n",
       " 0.4645411768339123,\n",
       " 0.39223060551276623,\n",
       " 0.43455826381716056,\n",
       " 0.43414455583180556,\n",
       " 0.4194058132508035,\n",
       " 0.44527648048874413,\n",
       " 0.42572031096301527,\n",
       " 0.4888783741902341,\n",
       " 0.45454521240296336,\n",
       " 0.40259889809993965,\n",
       " 0.44468266513285826,\n",
       " 0.44023781697151626,\n",
       " 0.4278089612174704,\n",
       " 0.42255336192921195,\n",
       " 0.442881544492256,\n",
       " 0.43655989003989293,\n",
       " 0.46247232379700537,\n",
       " 0.44732064869849136,\n",
       " 0.43462637013921185]"
      ]
     },
     "execution_count": 95,
     "metadata": {},
     "output_type": "execute_result"
    }
   ],
   "source": [
    "# Обучите модель\n",
    "vectorizer = TfidfVectorizer(max_features=3000)\n",
    "X = vectorizer.fit_transform(review_summaries)\n",
    "y = train_df.Prediction.values\n",
    "clf = LogisticRegression()\n",
    "clf.train(X, y, verbose=True, learning_rate=1.0, num_iters=1000, batch_size=256, reg=1e-3)"
   ]
  },
  {
   "cell_type": "code",
   "execution_count": 96,
   "metadata": {
    "ExecuteTime": {
     "end_time": "2021-11-20T12:33:12.172481Z",
     "start_time": "2021-11-20T12:33:12.142939Z"
    }
   },
   "outputs": [],
   "source": [
    "# Получите индексы фичей\n",
    "pos_features = np.argsort(clf.w)[-5:]\n",
    "neg_features = np.argsort(clf.w)[:5]"
   ]
  },
  {
   "cell_type": "code",
   "execution_count": 97,
   "metadata": {
    "ExecuteTime": {
     "end_time": "2021-11-20T12:33:14.936870Z",
     "start_time": "2021-11-20T12:33:14.906977Z"
    }
   },
   "outputs": [
    {
     "name": "stdout",
     "output_type": "stream",
     "text": [
      "['excellent', 'delicious', 'love', 'best', 'great']\n",
      "['not', 'disappointed', 'bad', 'too', 'but']\n"
     ]
    },
    {
     "name": "stderr",
     "output_type": "stream",
     "text": [
      "/home/dmitrii/PycharmProjects/otus_hw10/hw10_venv/lib/python3.9/site-packages/sklearn/utils/deprecation.py:87: FutureWarning: Function get_feature_names is deprecated; get_feature_names is deprecated in 1.0 and will be removed in 1.2. Please use get_feature_names_out instead.\n",
      "  warnings.warn(msg, category=FutureWarning)\n"
     ]
    }
   ],
   "source": [
    "# Выведите слова\n",
    "fnames = vectorizer.get_feature_names()\n",
    "print([fnames[p] for p in pos_features])\n",
    "print([fnames[n] for n in neg_features])"
   ]
  },
  {
   "cell_type": "markdown",
   "metadata": {},
   "source": [
    "## 5. Сравнение с sklearn.linear_model.LogisticRegression"
   ]
  },
  {
   "cell_type": "markdown",
   "metadata": {},
   "source": [
    "Обучите такую же модель, но из пакета ```sklearn.linear_model``` и убедитесь, что ваша имплементация ничем не хуже (ну или почти не хуже)."
   ]
  },
  {
   "cell_type": "code",
   "execution_count": 98,
   "metadata": {
    "ExecuteTime": {
     "end_time": "2021-11-20T12:33:19.455607Z",
     "start_time": "2021-11-20T12:33:19.412140Z"
    }
   },
   "outputs": [],
   "source": [
    "from sklearn import linear_model"
   ]
  },
  {
   "cell_type": "code",
   "execution_count": 101,
   "metadata": {
    "ExecuteTime": {
     "end_time": "2021-11-20T12:36:40.935940Z",
     "start_time": "2021-11-20T12:36:40.786262Z"
    }
   },
   "outputs": [
    {
     "data": {
      "text/plain": [
       "SGDClassifier(alpha=0.001, eta0=1.0, learning_rate='constant', loss='log',\n",
       "              random_state=42)"
      ]
     },
     "execution_count": 101,
     "metadata": {},
     "output_type": "execute_result"
    }
   ],
   "source": [
    "clf = linear_model.SGDClassifier(max_iter=1000, random_state=42, loss=\"log\", penalty=\"l2\", alpha=1e-3, eta0=1.0, learning_rate=\"constant\")\n",
    "clf.fit(X_train, y_train)"
   ]
  },
  {
   "cell_type": "code",
   "execution_count": 102,
   "metadata": {
    "ExecuteTime": {
     "end_time": "2021-11-20T12:36:44.626656Z",
     "start_time": "2021-11-20T12:36:44.587989Z"
    }
   },
   "outputs": [
    {
     "name": "stdout",
     "output_type": "stream",
     "text": [
      "Train accuracy = 0.816\n",
      "Test accuracy = 0.812\n"
     ]
    }
   ],
   "source": [
    "print(\"Train accuracy = %.3f\" % accuracy_score(y_train, clf.predict(X_train)))\n",
    "print(\"Test accuracy = %.3f\" % accuracy_score(y_test, clf.predict(X_test)))"
   ]
  },
  {
   "cell_type": "code",
   "execution_count": null,
   "metadata": {},
   "outputs": [],
   "source": []
  }
 ],
 "metadata": {
  "anaconda-cloud": {},
  "kernelspec": {
   "display_name": "Python 3 (ipykernel)",
   "language": "python",
   "name": "python3"
  },
  "language_info": {
   "codemirror_mode": {
    "name": "ipython",
    "version": 3
   },
   "file_extension": ".py",
   "mimetype": "text/x-python",
   "name": "python",
   "nbconvert_exporter": "python",
   "pygments_lexer": "ipython3",
   "version": "3.9.5"
  },
  "toc": {
   "base_numbering": 1,
   "nav_menu": {},
   "number_sections": true,
   "sideBar": true,
   "skip_h1_title": false,
   "title_cell": "Table of Contents",
   "title_sidebar": "Contents",
   "toc_cell": false,
   "toc_position": {},
   "toc_section_display": true,
   "toc_window_display": false
  },
  "varInspector": {
   "cols": {
    "lenName": 16,
    "lenType": 16,
    "lenVar": 40
   },
   "kernels_config": {
    "python": {
     "delete_cmd_postfix": "",
     "delete_cmd_prefix": "del ",
     "library": "var_list.py",
     "varRefreshCmd": "print(var_dic_list())"
    },
    "r": {
     "delete_cmd_postfix": ") ",
     "delete_cmd_prefix": "rm(",
     "library": "var_list.r",
     "varRefreshCmd": "cat(var_dic_list()) "
    }
   },
   "types_to_exclude": [
    "module",
    "function",
    "builtin_function_or_method",
    "instance",
    "_Feature"
   ],
   "window_display": false
  }
 },
 "nbformat": 4,
 "nbformat_minor": 1
}